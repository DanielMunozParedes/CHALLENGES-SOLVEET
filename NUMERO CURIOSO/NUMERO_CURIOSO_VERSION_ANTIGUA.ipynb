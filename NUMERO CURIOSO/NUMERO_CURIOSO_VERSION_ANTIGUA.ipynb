{
  "nbformat": 4,
  "nbformat_minor": 0,
  "metadata": {
    "colab": {
      "provenance": []
    },
    "kernelspec": {
      "name": "python3",
      "display_name": "Python 3"
    },
    "language_info": {
      "name": "python"
    }
  },
  "cells": [
    {
      "cell_type": "code",
      "execution_count": 1,
      "metadata": {
        "colab": {
          "base_uri": "https://localhost:8080/"
        },
        "id": "l1LXt_g6Q1CV",
        "outputId": "1f616ad6-c91f-403b-d513-c162a36bc6ce"
      },
      "outputs": [
        {
          "output_type": "stream",
          "name": "stdout",
          "text": [
            "coo\n",
            "83159\n",
            "!!EL Numero curioso es¡¡  [83159]\n"
          ]
        }
      ],
      "source": [
        "c = 9999  \n",
        "d = 0  \n",
        "l2 = []  \n",
        "l3 = []  \n",
        "l4 = []  \n",
        "e = 0  \n",
        "f = 0  \n",
        "j = 0  \n",
        "n = 0  \n",
        "h = 0  \n",
        "  \n",
        "def ar (li,num):  \n",
        "    e = 0  \n",
        "    f = 0  \n",
        "    while f < 5:  \n",
        "        f = f + 1  \n",
        "        e = num % 10  \n",
        "        li.append(int(e))   \n",
        "        num = num / 10  \n",
        "  \n",
        "def comp(liza,liz,cs):  \n",
        "    j = 0  \n",
        "    if liz[0] != liz [1] and liz[1] != liz[2] and liz[2] != liz[3] and liz[3] != liz[4]:  \n",
        "        j = j + 1      \n",
        "    if liz[0] != liz[2] and liz[0] != liz[3] and liz[0] != liz[4]:  \n",
        "        j = j + 1  \n",
        "    if liz[1] != liz[3] and liz[1] != liz[4]:  \n",
        "        j = j + 1  \n",
        "    if liz[2] != liz[4]:  \n",
        "        j = j + 1  \n",
        "  \n",
        "    if j == 4:  \n",
        "        liza.append(cs)  \n",
        "        #print(l3)  \n",
        "        del(liz[0:5])      \n",
        "    else:  \n",
        "        del(liz[0:5])  \n",
        "  \n",
        "def fin (ltr,lt):  \n",
        "    n = 0  \n",
        "    for g in lt:  \n",
        "        for h in range(1):  \n",
        "            if ((g - (7-1)) % 7 == 0) and ((g - (8-1)) % 8 == 0) and ((g - (9-1)) % 9 == 0):  \n",
        "                if ((g - (10-1)) % 10 == 0) and ((g - (11-1)) % 11 == 0)and ((g - (12-1)) % 12 == 0):  \n",
        "                    n = 5  \n",
        "        if n == 5:  \n",
        "            print(\"coo\")  \n",
        "            n = 0  \n",
        "            ltr.append(g)  \n",
        "            print(g)  \n",
        "              \n",
        "      \n",
        "while c <= 99999:  \n",
        "    c = c + 1  \n",
        "    ar(l2,c)  \n",
        "    comp(l3,l2,c)  \n",
        "  \n",
        "fin(l4,l3)      \n",
        "print(\"!!EL Numero curioso es¡¡ \",l4) "
      ]
    }
  ]
}