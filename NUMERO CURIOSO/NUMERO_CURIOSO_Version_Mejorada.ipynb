{
  "nbformat": 4,
  "nbformat_minor": 0,
  "metadata": {
    "colab": {
      "provenance": []
    },
    "kernelspec": {
      "name": "python3",
      "display_name": "Python 3"
    },
    "language_info": {
      "name": "python"
    }
  },
  "cells": [
    {
      "cell_type": "code",
      "execution_count": 1,
      "metadata": {
        "colab": {
          "base_uri": "https://localhost:8080/",
          "height": 145
        },
        "id": "cO3Isc3KRGw8",
        "outputId": "6d14a35c-70ad-41ba-bd6d-e27e5af6424c"
      },
      "outputs": [
        {
          "output_type": "execute_result",
          "data": {
            "text/plain": [
              "'\\nPORPUSED BY \"nRikee\"\\n\\nEste es un desafío matemático de la Real Sociedad Matemática Española. Y dice así:\\n\\n\\nEl equipo que preparamos los desafíos matemáticos hemos decidido abonarnos durante todo el año a un número de la Lotería. Para elegir ese número, que debe estar comprendido entre el 0 y el 99.999, pusimos como condición que tuviese las cinco cifras distintas y que, además, cumpliese alguna otra propiedad interesante. Finalmente hemos conseguido un número que tiene la siguiente propiedad: si numeramos los meses del año del 1 al 12, en cualquier mes del año ocurre que al restar a nuestro número de lotería el número del mes anterior, el resultado es divisible por el número del mes en el que estemos. Y esto sucede para cada uno de los meses del año.\\n\\nEs decir, si llamamos L a nuestro número, tenemos por ejemplo que en marzo L-2 es divisible entre 3 y en diciembre L-11 es divisible entre 12.\\n\\nEl reto que os planteamos es que nos digáis a qué número de Lotería estamos abonados.\\n\\nFuente\\n\\n'"
            ],
            "application/vnd.google.colaboratory.intrinsic+json": {
              "type": "string"
            }
          },
          "metadata": {},
          "execution_count": 1
        }
      ],
      "source": [
        "\"\"\"\n",
        "PORPUSED BY \"nRikee\"\n",
        "\n",
        "Este es un desafío matemático de la Real Sociedad Matemática Española. Y dice así:\n",
        "\n",
        "\n",
        "El equipo que preparamos los desafíos matemáticos hemos decidido abonarnos durante todo el año a un número de la Lotería. Para elegir ese número, que debe estar comprendido entre el 0 y el 99.999, pusimos como condición que tuviese las cinco cifras distintas y que, además, cumpliese alguna otra propiedad interesante. Finalmente hemos conseguido un número que tiene la siguiente propiedad: si numeramos los meses del año del 1 al 12, en cualquier mes del año ocurre que al restar a nuestro número de lotería el número del mes anterior, el resultado es divisible por el número del mes en el que estemos. Y esto sucede para cada uno de los meses del año.\n",
        "\n",
        "Es decir, si llamamos L a nuestro número, tenemos por ejemplo que en marzo L-2 es divisible entre 3 y en diciembre L-11 es divisible entre 12.\n",
        "\n",
        "El reto que os planteamos es que nos digáis a qué número de Lotería estamos abonados.\n",
        "\n",
        "Fuente\n",
        "\n",
        "\"\"\""
      ]
    },
    {
      "cell_type": "code",
      "source": [
        "def multiplo (numero):\n",
        "  cont = 0\n",
        "  for aux in range(1,13):\n",
        "      if (numero - (aux-1))% aux == 0 :\n",
        "        cont = cont + 1\n",
        "        if(cont == 12):\n",
        "          return \"es\""
      ],
      "metadata": {
        "id": "F6WohSD9JZuO"
      },
      "execution_count": 2,
      "outputs": []
    },
    {
      "cell_type": "code",
      "source": [
        "def diferencia(lista,pos,flag ,increment = 0,boolean = False):\n",
        "  \n",
        "  if(increment == 0): increment == 0\n",
        "  if(boolean == False): boolean = False\n",
        "  for nume,valor in enumerate(lista):\n",
        "    if pos != nume:\n",
        "      if (lista[pos] == valor):\n",
        "        flag = flag + 1\n",
        "  \n",
        "  increment = increment + 1\n",
        "  if(increment < 5 ):\n",
        "    flag = diferencia(lista,increment,flag,increment,boolean)\n",
        "  \n",
        "  return flag\n",
        "  \n",
        " \n",
        "  "
      ],
      "metadata": {
        "id": "dFy1wwUcXXFI"
      },
      "execution_count": 3,
      "outputs": []
    },
    {
      "cell_type": "code",
      "source": [
        "num = []\n",
        "flag = 0\n",
        "for p in range(10000,99999):\n",
        " \n",
        "  for i in iter(str(p)):\n",
        "    num.append(int(i))\n",
        "\n",
        "  res=diferencia(num,0,flag)\n",
        "  if(res == 0):   \n",
        "    solucion = multiplo(p)\n",
        "    if solucion == \"es\": \n",
        "      print(\"El numero Curioso es!!! \", p)\n",
        "      break\n",
        "\n",
        "  num = []\n"
      ],
      "metadata": {
        "colab": {
          "base_uri": "https://localhost:8080/"
        },
        "id": "TbY9Oy3oYUMj",
        "outputId": "7a3a03da-c784-4294-e242-87247a1628dc"
      },
      "execution_count": 4,
      "outputs": [
        {
          "output_type": "stream",
          "name": "stdout",
          "text": [
            "El numero Curioso es!!!  83159\n"
          ]
        }
      ]
    }
  ]
}